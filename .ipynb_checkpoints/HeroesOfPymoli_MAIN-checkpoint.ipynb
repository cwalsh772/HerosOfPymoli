{
 "cells": [
  {
   "cell_type": "markdown",
   "metadata": {},
   "source": [
    "### Note\n",
    "* Instructions have been included for each segment. You do not have to follow them exactly, but they are included to help you think through the steps."
   ]
  },
  {
   "cell_type": "code",
   "execution_count": 15,
   "metadata": {},
   "outputs": [],
   "source": [
    "# Dependencies and Setup\n",
    "import pandas as pd\n",
    "\n",
    "# File to Load (Remember to Change These)\n",
    "file_to_load = \"Resources/purchase_data.csv\"\n",
    "\n",
    "# Read Purchasing File and store into Pandas data frame\n",
    "purchase_data = pd.read_csv(file_to_load)"
   ]
  },
  {
   "cell_type": "markdown",
   "metadata": {},
   "source": [
    "## Player Count"
   ]
  },
  {
   "cell_type": "markdown",
   "metadata": {},
   "source": [
    "* Display the total number of players\n"
   ]
  },
  {
   "cell_type": "code",
   "execution_count": 16,
   "metadata": {},
   "outputs": [
    {
     "data": {
      "text/html": [
       "<div>\n",
       "<style scoped>\n",
       "    .dataframe tbody tr th:only-of-type {\n",
       "        vertical-align: middle;\n",
       "    }\n",
       "\n",
       "    .dataframe tbody tr th {\n",
       "        vertical-align: top;\n",
       "    }\n",
       "\n",
       "    .dataframe thead th {\n",
       "        text-align: right;\n",
       "    }\n",
       "</style>\n",
       "<table border=\"1\" class=\"dataframe\">\n",
       "  <thead>\n",
       "    <tr style=\"text-align: right;\">\n",
       "      <th></th>\n",
       "      <th>Total Players</th>\n",
       "    </tr>\n",
       "  </thead>\n",
       "  <tbody>\n",
       "    <tr>\n",
       "      <th>0</th>\n",
       "      <td>576</td>\n",
       "    </tr>\n",
       "  </tbody>\n",
       "</table>\n",
       "</div>"
      ],
      "text/plain": [
       "   Total Players\n",
       "0            576"
      ]
     },
     "execution_count": 16,
     "metadata": {},
     "output_type": "execute_result"
    }
   ],
   "source": [
    "player_count=purchase_data.loc[:,[\"SN\"]]\n",
    "player_count=player_count.drop_duplicates()\n",
    "player_count_df=player_count.count()[0]\n",
    "pd.DataFrame({\"Total Players\":[player_count_df]})"
   ]
  },
  {
   "cell_type": "markdown",
   "metadata": {},
   "source": [
    "## Purchasing Analysis (Total)"
   ]
  },
  {
   "cell_type": "markdown",
   "metadata": {},
   "source": [
    "* Run basic calculations to obtain number of unique items, average price, etc.\n",
    "\n",
    "\n",
    "* Create a summary data frame to hold the results\n",
    "\n",
    "\n",
    "* Optional: give the displayed data cleaner formatting\n",
    "\n",
    "\n",
    "* Display the summary data frame\n"
   ]
  },
  {
   "cell_type": "code",
   "execution_count": 17,
   "metadata": {
    "scrolled": true
   },
   "outputs": [
    {
     "data": {
      "text/html": [
       "<div>\n",
       "<style scoped>\n",
       "    .dataframe tbody tr th:only-of-type {\n",
       "        vertical-align: middle;\n",
       "    }\n",
       "\n",
       "    .dataframe tbody tr th {\n",
       "        vertical-align: top;\n",
       "    }\n",
       "\n",
       "    .dataframe thead th {\n",
       "        text-align: right;\n",
       "    }\n",
       "</style>\n",
       "<table border=\"1\" class=\"dataframe\">\n",
       "  <thead>\n",
       "    <tr style=\"text-align: right;\">\n",
       "      <th></th>\n",
       "      <th>Number of Unique Items</th>\n",
       "      <th>Average Purchase Price</th>\n",
       "      <th>Total Number of Purchases</th>\n",
       "      <th>Total Revenue</th>\n",
       "    </tr>\n",
       "  </thead>\n",
       "  <tbody>\n",
       "    <tr>\n",
       "      <th>0</th>\n",
       "      <td>179</td>\n",
       "      <td>$3.05</td>\n",
       "      <td>780</td>\n",
       "      <td>$2,379.77</td>\n",
       "    </tr>\n",
       "  </tbody>\n",
       "</table>\n",
       "</div>"
      ],
      "text/plain": [
       "   Number of Unique Items Average Purchase Price  Total Number of Purchases  \\\n",
       "0                     179                  $3.05                        780   \n",
       "\n",
       "  Total Revenue  \n",
       "0     $2,379.77  "
      ]
     },
     "execution_count": 17,
     "metadata": {},
     "output_type": "execute_result"
    }
   ],
   "source": [
    "items = purchase_data[\"Item Name\"].unique()\n",
    "total_items = len(items)\n",
    "\n",
    "average =\"${:0,.2f}\".format(float(purchase_data[\"Price\"].mean()))\n",
    "total_purchases = purchase_data[\"Purchase ID\"].count()\n",
    "total_revenue = \"${:0,.2f}\".format(float(purchase_data[\"Price\"].sum()))\n",
    "\n",
    "analysis = [{\"Number of Unique Items\": total_items,\n",
    "               \"Average Purchase Price\":average,\n",
    "               \"Total Number of Purchases\":total_purchases,\n",
    "               \"Total Revenue\":total_revenue}]\n",
    "            \n",
    "purchasing_df = pd.DataFrame(analysis)\n",
    "purchasing_df"
   ]
  },
  {
   "cell_type": "markdown",
   "metadata": {},
   "source": [
    "## Gender Demographics"
   ]
  },
  {
   "cell_type": "markdown",
   "metadata": {},
   "source": [
    "* Percentage and Count of Male Players\n",
    "\n",
    "\n",
    "* Percentage and Count of Female Players\n",
    "\n",
    "\n",
    "* Percentage and Count of Other / Non-Disclosed\n",
    "\n",
    "\n"
   ]
  },
  {
   "cell_type": "code",
   "execution_count": 18,
   "metadata": {},
   "outputs": [
    {
     "data": {
      "text/html": [
       "<div>\n",
       "<style scoped>\n",
       "    .dataframe tbody tr th:only-of-type {\n",
       "        vertical-align: middle;\n",
       "    }\n",
       "\n",
       "    .dataframe tbody tr th {\n",
       "        vertical-align: top;\n",
       "    }\n",
       "\n",
       "    .dataframe thead th {\n",
       "        text-align: right;\n",
       "    }\n",
       "</style>\n",
       "<table border=\"1\" class=\"dataframe\">\n",
       "  <thead>\n",
       "    <tr style=\"text-align: right;\">\n",
       "      <th></th>\n",
       "      <th>Total Count</th>\n",
       "      <th>Percent</th>\n",
       "    </tr>\n",
       "  </thead>\n",
       "  <tbody>\n",
       "    <tr>\n",
       "      <th>Male</th>\n",
       "      <td>484</td>\n",
       "      <td>84.03%</td>\n",
       "    </tr>\n",
       "    <tr>\n",
       "      <th>Female</th>\n",
       "      <td>81</td>\n",
       "      <td>14.06%</td>\n",
       "    </tr>\n",
       "    <tr>\n",
       "      <th>Other/Non-Disclosed</th>\n",
       "      <td>11</td>\n",
       "      <td>1.91%</td>\n",
       "    </tr>\n",
       "  </tbody>\n",
       "</table>\n",
       "</div>"
      ],
      "text/plain": [
       "                     Total Count Percent\n",
       "Male                         484  84.03%\n",
       "Female                        81  14.06%\n",
       "Other/Non-Disclosed           11   1.91%"
      ]
     },
     "execution_count": 18,
     "metadata": {},
     "output_type": "execute_result"
    }
   ],
   "source": [
    "male_df = purchase_data.loc[purchase_data[\"Gender\"]==\"Male\",:]\n",
    "male_count = len(male_df[\"SN\"].unique())\n",
    "male_percent = \"{:0,.2f}%\".format((male_count/player_count_df)*100)\n",
    "\n",
    "\n",
    "female_df = purchase_data.loc[purchase_data[\"Gender\"]==\"Female\",:]\n",
    "female_count = len(female_df[\"SN\"].unique())\n",
    "female_percent = \"{:0,.2f}%\".format((female_count/player_count_df)*100)\n",
    "\n",
    "\n",
    "they_df = purchase_data.loc[purchase_data[\"Gender\"]==\"Other / Non-Disclosed\",:]\n",
    "they_count = len(they_df[\"SN\"].unique())\n",
    "they_percent = \"{:0,.2f}%\".format((they_count/player_count_df)*100)\n",
    "\n",
    "\n",
    "gender_df = {\"Total Count\":[male_count, female_count, they_count],\n",
    "            \"Percent\":[male_percent, female_percent, they_percent]}\n",
    "            \n",
    "gender_demo = pd.DataFrame(gender_df, index = [\"Male\",\"Female\", \"Other/Non-Disclosed\"])\n",
    "gender_demo"
   ]
  },
  {
   "cell_type": "markdown",
   "metadata": {},
   "source": [
    "\n",
    "## Purchasing Analysis (Gender)"
   ]
  },
  {
   "cell_type": "markdown",
   "metadata": {},
   "source": [
    "* Run basic calculations to obtain purchase count, avg. purchase price, avg. purchase total per person etc. by gender\n",
    "\n",
    "\n",
    "\n",
    "\n",
    "* Create a summary data frame to hold the results\n",
    "\n",
    "\n",
    "* Optional: give the displayed data cleaner formatting\n",
    "\n",
    "\n",
    "* Display the summary data frame"
   ]
  },
  {
   "cell_type": "code",
   "execution_count": 19,
   "metadata": {},
   "outputs": [
    {
     "data": {
      "text/html": [
       "<div>\n",
       "<style scoped>\n",
       "    .dataframe tbody tr th:only-of-type {\n",
       "        vertical-align: middle;\n",
       "    }\n",
       "\n",
       "    .dataframe tbody tr th {\n",
       "        vertical-align: top;\n",
       "    }\n",
       "\n",
       "    .dataframe thead th {\n",
       "        text-align: right;\n",
       "    }\n",
       "</style>\n",
       "<table border=\"1\" class=\"dataframe\">\n",
       "  <thead>\n",
       "    <tr style=\"text-align: right;\">\n",
       "      <th></th>\n",
       "      <th>Purchase Count</th>\n",
       "      <th>Average Purchase Price</th>\n",
       "      <th>Total Purchase Value</th>\n",
       "      <th>Average Purchase Total Per Person</th>\n",
       "    </tr>\n",
       "  </thead>\n",
       "  <tbody>\n",
       "    <tr>\n",
       "      <th>Female</th>\n",
       "      <td>113</td>\n",
       "      <td>$3.20</td>\n",
       "      <td>$361.94</td>\n",
       "      <td>$4.47</td>\n",
       "    </tr>\n",
       "    <tr>\n",
       "      <th>Male</th>\n",
       "      <td>652</td>\n",
       "      <td>$3.02</td>\n",
       "      <td>$1,967.64</td>\n",
       "      <td>$4.07</td>\n",
       "    </tr>\n",
       "    <tr>\n",
       "      <th>Other/Non-Disclosed</th>\n",
       "      <td>15</td>\n",
       "      <td>$3.35</td>\n",
       "      <td>$50.19</td>\n",
       "      <td>$4.56</td>\n",
       "    </tr>\n",
       "  </tbody>\n",
       "</table>\n",
       "</div>"
      ],
      "text/plain": [
       "                     Purchase Count Average Purchase Price  \\\n",
       "Female                          113                  $3.20   \n",
       "Male                            652                  $3.02   \n",
       "Other/Non-Disclosed              15                  $3.35   \n",
       "\n",
       "                    Total Purchase Value Average Purchase Total Per Person  \n",
       "Female                           $361.94                             $4.47  \n",
       "Male                           $1,967.64                             $4.07  \n",
       "Other/Non-Disclosed               $50.19                             $4.56  "
      ]
     },
     "execution_count": 19,
     "metadata": {},
     "output_type": "execute_result"
    }
   ],
   "source": [
    "male_purchases = male_df[\"Purchase ID\"].count()\n",
    "female_purchases = female_df[\"Purchase ID\"].count()\n",
    "they_purchases = they_df[\"Purchase ID\"].count()\n",
    "\n",
    "male_average = \"${:0,.2f}\".format(male_df[\"Price\"].mean())\n",
    "female_average = \"${:0,.2f}\".format(female_df[\"Price\"].mean())\n",
    "they_average = \"${:0,.2f}\".format(they_df[\"Price\"].mean())\n",
    "\n",
    "\n",
    "male_total = male_df[\"Price\"].sum()\n",
    "female_total = female_df[\"Price\"].sum()\n",
    "they_total = they_df[\"Price\"].sum()\n",
    "\n",
    "\n",
    "male_APT = (male_total)/(male_count)\n",
    "female_APT = (female_total)/(female_count)\n",
    "they_APT = (they_total)/(they_count)\n",
    "\n",
    "\n",
    "purchasing_analysis_df = {\"Purchase Count\":[female_purchases, male_purchases, they_purchases],\n",
    "                         \"Average Purchase Price\":[female_average, male_average, they_average],\n",
    "                         \"Total Purchase Value\":[\"${:0,.2f}\".format(female_total), \"${:0,.2f}\".format(male_total), \"${:0,.2f}\".format(they_total)],\n",
    "                         \"Average Purchase Total Per Person\":[\"${:0,.2f}\".format(female_APT), \"${:0,.2f}\".format(male_APT),\"${:0,.2f}\".format(they_APT)]}\n",
    "\n",
    "purchasing_gender = pd.DataFrame(purchasing_analysis_df, index = [\"Female\",\"Male\", \"Other/Non-Disclosed\"])\n",
    "purchasing_gender"
   ]
  },
  {
   "cell_type": "markdown",
   "metadata": {},
   "source": [
    "## Age Demographics & Purchasing Analysis"
   ]
  },
  {
   "cell_type": "markdown",
   "metadata": {},
   "source": [
    "* Establish bins for ages\n",
    "\n",
    "\n",
    "* Categorize the existing players using the age bins. Hint: use pd.cut()\n",
    "\n",
    "\n",
    "* Calculate the numbers and percentages by age group\n",
    "\n",
    "\n",
    "* Create a summary data frame to hold the results\n",
    "\n",
    "\n",
    "* Optional: round the percentage column to two decimal points\n",
    "\n",
    "\n",
    "* Display Age Demographics Table\n"
   ]
  },
  {
   "cell_type": "code",
   "execution_count": 24,
   "metadata": {},
   "outputs": [
    {
     "data": {
      "text/html": [
       "<div>\n",
       "<style scoped>\n",
       "    .dataframe tbody tr th:only-of-type {\n",
       "        vertical-align: middle;\n",
       "    }\n",
       "\n",
       "    .dataframe tbody tr th {\n",
       "        vertical-align: top;\n",
       "    }\n",
       "\n",
       "    .dataframe thead th {\n",
       "        text-align: right;\n",
       "    }\n",
       "</style>\n",
       "<table border=\"1\" class=\"dataframe\">\n",
       "  <thead>\n",
       "    <tr style=\"text-align: right;\">\n",
       "      <th></th>\n",
       "      <th>Purchase Count</th>\n",
       "      <th>Average Purchase Price</th>\n",
       "      <th>Total Purchase Value</th>\n",
       "      <th>Avg Total Purchase per Person</th>\n",
       "    </tr>\n",
       "    <tr>\n",
       "      <th>Age Groups</th>\n",
       "      <th></th>\n",
       "      <th></th>\n",
       "      <th></th>\n",
       "      <th></th>\n",
       "    </tr>\n",
       "  </thead>\n",
       "  <tbody>\n",
       "    <tr>\n",
       "      <th>&lt;10</th>\n",
       "      <td>23</td>\n",
       "      <td>3.35</td>\n",
       "      <td>77.13</td>\n",
       "      <td>3.35</td>\n",
       "    </tr>\n",
       "    <tr>\n",
       "      <th>10-14</th>\n",
       "      <td>28</td>\n",
       "      <td>2.96</td>\n",
       "      <td>82.78</td>\n",
       "      <td>2.96</td>\n",
       "    </tr>\n",
       "    <tr>\n",
       "      <th>15-19</th>\n",
       "      <td>136</td>\n",
       "      <td>3.04</td>\n",
       "      <td>412.89</td>\n",
       "      <td>3.04</td>\n",
       "    </tr>\n",
       "    <tr>\n",
       "      <th>20-24</th>\n",
       "      <td>365</td>\n",
       "      <td>3.05</td>\n",
       "      <td>1114.06</td>\n",
       "      <td>3.05</td>\n",
       "    </tr>\n",
       "    <tr>\n",
       "      <th>25-29</th>\n",
       "      <td>101</td>\n",
       "      <td>2.90</td>\n",
       "      <td>293.00</td>\n",
       "      <td>2.90</td>\n",
       "    </tr>\n",
       "    <tr>\n",
       "      <th>30-34</th>\n",
       "      <td>73</td>\n",
       "      <td>2.93</td>\n",
       "      <td>214.00</td>\n",
       "      <td>2.93</td>\n",
       "    </tr>\n",
       "    <tr>\n",
       "      <th>35-39</th>\n",
       "      <td>41</td>\n",
       "      <td>3.60</td>\n",
       "      <td>147.67</td>\n",
       "      <td>3.60</td>\n",
       "    </tr>\n",
       "    <tr>\n",
       "      <th>40+</th>\n",
       "      <td>13</td>\n",
       "      <td>2.94</td>\n",
       "      <td>38.24</td>\n",
       "      <td>2.94</td>\n",
       "    </tr>\n",
       "  </tbody>\n",
       "</table>\n",
       "</div>"
      ],
      "text/plain": [
       "            Purchase Count  Average Purchase Price  Total Purchase Value  \\\n",
       "Age Groups                                                                 \n",
       "<10                     23                    3.35                 77.13   \n",
       "10-14                   28                    2.96                 82.78   \n",
       "15-19                  136                    3.04                412.89   \n",
       "20-24                  365                    3.05               1114.06   \n",
       "25-29                  101                    2.90                293.00   \n",
       "30-34                   73                    2.93                214.00   \n",
       "35-39                   41                    3.60                147.67   \n",
       "40+                     13                    2.94                 38.24   \n",
       "\n",
       "            Avg Total Purchase per Person  \n",
       "Age Groups                                 \n",
       "<10                                  3.35  \n",
       "10-14                                2.96  \n",
       "15-19                                3.04  \n",
       "20-24                                3.05  \n",
       "25-29                                2.90  \n",
       "30-34                                2.93  \n",
       "35-39                                3.60  \n",
       "40+                                  2.94  "
      ]
     },
     "execution_count": 24,
     "metadata": {},
     "output_type": "execute_result"
    }
   ],
   "source": [
    "age_names = [\"<10\",\"10-14\",\"15-19\",\"20-24\",\"25-29\",\"30-34\",\"35-39\",\"40+\"]\n",
    "\n",
    "purchase_data[\"Age Groups\"]=pd.cut(purchase_data[\"Age\"],bins,labels=age_ranges)\n",
    "grouped_bin=purchase_data.groupby([\"Age Groups\"])\n",
    "grouped_bin.head()\n",
    "\n",
    "bin_count=grouped_bin[\"Age\"].count()\n",
    "bin_avg=grouped_bin[\"Price\"].mean()\n",
    "bin_avg=round(bin_avg,2)\n",
    "bin_total=grouped_bin[\"Price\"].sum()\n",
    "\n",
    "avg_total_person=bin_total/bin_count\n",
    "avg_total_person=round(avg_total_person,2)\n",
    "\n",
    "purchase_age=pd.DataFrame({\"Purchase Count\":bin_count,\"Average Purchase Price\":bin_avg, \"Total Purchase Value\":bin_total, \"Avg Total Purchase per Person\":avg_total_person})\n",
    "purchase_age"
   ]
  },
  {
   "cell_type": "markdown",
   "metadata": {},
   "source": [
    "## Top Spenders"
   ]
  },
  {
   "cell_type": "markdown",
   "metadata": {},
   "source": [
    "* Run basic calculations to obtain the results in the table below\n",
    "\n",
    "\n",
    "* Create a summary data frame to hold the results\n",
    "\n",
    "\n",
    "* Sort the total purchase value column in descending order\n",
    "\n",
    "\n",
    "* Optional: give the displayed data cleaner formatting\n",
    "\n",
    "\n",
    "* Display a preview of the summary data frame\n",
    "\n"
   ]
  },
  {
   "cell_type": "code",
   "execution_count": 25,
   "metadata": {},
   "outputs": [
    {
     "data": {
      "text/html": [
       "<style  type=\"text/css\" >\n",
       "</style><table id=\"T_b0b7d028_a2e2_11ea_9a96_04d9f51c0e53\" ><thead>    <tr>        <th class=\"blank level0\" ></th>        <th class=\"col_heading level0 col0\" >Purchase Count</th>        <th class=\"col_heading level0 col1\" >Average Purchase Price</th>        <th class=\"col_heading level0 col2\" >Total Purchase Value</th>    </tr></thead><tbody>\n",
       "                <tr>\n",
       "                        <th id=\"T_b0b7d028_a2e2_11ea_9a96_04d9f51c0e53level0_row0\" class=\"row_heading level0 row0\" >Lisosia93</th>\n",
       "                        <td id=\"T_b0b7d028_a2e2_11ea_9a96_04d9f51c0e53row0_col0\" class=\"data row0 col0\" >5</td>\n",
       "                        <td id=\"T_b0b7d028_a2e2_11ea_9a96_04d9f51c0e53row0_col1\" class=\"data row0 col1\" >$3.79</td>\n",
       "                        <td id=\"T_b0b7d028_a2e2_11ea_9a96_04d9f51c0e53row0_col2\" class=\"data row0 col2\" >$18.96</td>\n",
       "            </tr>\n",
       "            <tr>\n",
       "                        <th id=\"T_b0b7d028_a2e2_11ea_9a96_04d9f51c0e53level0_row1\" class=\"row_heading level0 row1\" >Idastidru52</th>\n",
       "                        <td id=\"T_b0b7d028_a2e2_11ea_9a96_04d9f51c0e53row1_col0\" class=\"data row1 col0\" >4</td>\n",
       "                        <td id=\"T_b0b7d028_a2e2_11ea_9a96_04d9f51c0e53row1_col1\" class=\"data row1 col1\" >$3.86</td>\n",
       "                        <td id=\"T_b0b7d028_a2e2_11ea_9a96_04d9f51c0e53row1_col2\" class=\"data row1 col2\" >$15.45</td>\n",
       "            </tr>\n",
       "            <tr>\n",
       "                        <th id=\"T_b0b7d028_a2e2_11ea_9a96_04d9f51c0e53level0_row2\" class=\"row_heading level0 row2\" >Chamjask73</th>\n",
       "                        <td id=\"T_b0b7d028_a2e2_11ea_9a96_04d9f51c0e53row2_col0\" class=\"data row2 col0\" >3</td>\n",
       "                        <td id=\"T_b0b7d028_a2e2_11ea_9a96_04d9f51c0e53row2_col1\" class=\"data row2 col1\" >$4.61</td>\n",
       "                        <td id=\"T_b0b7d028_a2e2_11ea_9a96_04d9f51c0e53row2_col2\" class=\"data row2 col2\" >$13.83</td>\n",
       "            </tr>\n",
       "            <tr>\n",
       "                        <th id=\"T_b0b7d028_a2e2_11ea_9a96_04d9f51c0e53level0_row3\" class=\"row_heading level0 row3\" >Iral74</th>\n",
       "                        <td id=\"T_b0b7d028_a2e2_11ea_9a96_04d9f51c0e53row3_col0\" class=\"data row3 col0\" >4</td>\n",
       "                        <td id=\"T_b0b7d028_a2e2_11ea_9a96_04d9f51c0e53row3_col1\" class=\"data row3 col1\" >$3.40</td>\n",
       "                        <td id=\"T_b0b7d028_a2e2_11ea_9a96_04d9f51c0e53row3_col2\" class=\"data row3 col2\" >$13.62</td>\n",
       "            </tr>\n",
       "            <tr>\n",
       "                        <th id=\"T_b0b7d028_a2e2_11ea_9a96_04d9f51c0e53level0_row4\" class=\"row_heading level0 row4\" >Iskadarya95</th>\n",
       "                        <td id=\"T_b0b7d028_a2e2_11ea_9a96_04d9f51c0e53row4_col0\" class=\"data row4 col0\" >3</td>\n",
       "                        <td id=\"T_b0b7d028_a2e2_11ea_9a96_04d9f51c0e53row4_col1\" class=\"data row4 col1\" >$4.37</td>\n",
       "                        <td id=\"T_b0b7d028_a2e2_11ea_9a96_04d9f51c0e53row4_col2\" class=\"data row4 col2\" >$13.10</td>\n",
       "            </tr>\n",
       "    </tbody></table>"
      ],
      "text/plain": [
       "<pandas.io.formats.style.Styler at 0x16a77c7d1c8>"
      ]
     },
     "execution_count": 25,
     "metadata": {},
     "output_type": "execute_result"
    }
   ],
   "source": [
    "players = purchase_data.groupby([\"SN\"]).sum()\n",
    "spending_totals = players[\"Price\"].sort_values(ascending = False)\n",
    "top_spenders = spending_totals[0:5]\n",
    "\n",
    "top_spenders_value = [float(value) for value in top_spenders]\n",
    "top_spenders_SN = [value for value in top_spenders.index]\n",
    "\n",
    "top_spenders_count = [int(purchase_data.loc[purchase_data[\"SN\"]==x].count()[0]) for x in top_spenders.index]\n",
    "\n",
    "top_spenders_average  = [i / j for i, j in zip(top_spenders_value, top_spenders_count)]\n",
    "\n",
    "df = {\"Purchase Count\":top_spenders_count,\n",
    "      \"Average Purchase Price\":top_spenders_average, \n",
    "      \"Total Purchase Value\":top_spenders_value}\n",
    "format_dict = {'Average Purchase Price': '${0:,.2f}', 'Total Purchase Value': '${0:,.2f}'}\n",
    "top_spenders_df = pd.DataFrame(df, index=top_spenders_SN).style.format(format_dict)\n",
    "top_spenders_df"
   ]
  },
  {
   "cell_type": "markdown",
   "metadata": {},
   "source": [
    "## Most Popular Items"
   ]
  },
  {
   "cell_type": "markdown",
   "metadata": {},
   "source": [
    "* Retrieve the Item ID, Item Name, and Item Price columns\n",
    "\n",
    "\n",
    "* Group by Item ID and Item Name. Perform calculations to obtain purchase count, item price, and total purchase value\n",
    "\n",
    "\n",
    "* Create a summary data frame to hold the results\n",
    "\n",
    "\n",
    "* Sort the purchase count column in descending order\n",
    "\n",
    "\n",
    "* Optional: give the displayed data cleaner formatting\n",
    "\n",
    "\n",
    "* Display a preview of the summary data frame\n",
    "\n"
   ]
  },
  {
   "cell_type": "code",
   "execution_count": 26,
   "metadata": {},
   "outputs": [
    {
     "data": {
      "text/html": [
       "<style  type=\"text/css\" >\n",
       "</style><table id=\"T_b1b5bf98_a2e2_11ea_914c_04d9f51c0e53\" ><thead>    <tr>        <th class=\"col_heading level0 col0\" >Item ID</th>        <th class=\"col_heading level0 col1\" >Item Name</th>        <th class=\"col_heading level0 col2\" >Purchase Count</th>        <th class=\"col_heading level0 col3\" >Item Price</th>        <th class=\"col_heading level0 col4\" >Total Purchase Value</th>    </tr></thead><tbody>\n",
       "                <tr>\n",
       "                                <td id=\"T_b1b5bf98_a2e2_11ea_914c_04d9f51c0e53row0_col0\" class=\"data row0 col0\" >92</td>\n",
       "                        <td id=\"T_b1b5bf98_a2e2_11ea_914c_04d9f51c0e53row0_col1\" class=\"data row0 col1\" >Final Critic</td>\n",
       "                        <td id=\"T_b1b5bf98_a2e2_11ea_914c_04d9f51c0e53row0_col2\" class=\"data row0 col2\" >13</td>\n",
       "                        <td id=\"T_b1b5bf98_a2e2_11ea_914c_04d9f51c0e53row0_col3\" class=\"data row0 col3\" >$4.61</td>\n",
       "                        <td id=\"T_b1b5bf98_a2e2_11ea_914c_04d9f51c0e53row0_col4\" class=\"data row0 col4\" >$59.99</td>\n",
       "            </tr>\n",
       "            <tr>\n",
       "                                <td id=\"T_b1b5bf98_a2e2_11ea_914c_04d9f51c0e53row1_col0\" class=\"data row1 col0\" >178</td>\n",
       "                        <td id=\"T_b1b5bf98_a2e2_11ea_914c_04d9f51c0e53row1_col1\" class=\"data row1 col1\" >Oathbreaker, Last Hope of the Breaking Storm</td>\n",
       "                        <td id=\"T_b1b5bf98_a2e2_11ea_914c_04d9f51c0e53row1_col2\" class=\"data row1 col2\" >12</td>\n",
       "                        <td id=\"T_b1b5bf98_a2e2_11ea_914c_04d9f51c0e53row1_col3\" class=\"data row1 col3\" >$4.23</td>\n",
       "                        <td id=\"T_b1b5bf98_a2e2_11ea_914c_04d9f51c0e53row1_col4\" class=\"data row1 col4\" >$50.76</td>\n",
       "            </tr>\n",
       "            <tr>\n",
       "                                <td id=\"T_b1b5bf98_a2e2_11ea_914c_04d9f51c0e53row2_col0\" class=\"data row2 col0\" >108</td>\n",
       "                        <td id=\"T_b1b5bf98_a2e2_11ea_914c_04d9f51c0e53row2_col1\" class=\"data row2 col1\" >Nirvana</td>\n",
       "                        <td id=\"T_b1b5bf98_a2e2_11ea_914c_04d9f51c0e53row2_col2\" class=\"data row2 col2\" >9</td>\n",
       "                        <td id=\"T_b1b5bf98_a2e2_11ea_914c_04d9f51c0e53row2_col3\" class=\"data row2 col3\" >$4.90</td>\n",
       "                        <td id=\"T_b1b5bf98_a2e2_11ea_914c_04d9f51c0e53row2_col4\" class=\"data row2 col4\" >$44.10</td>\n",
       "            </tr>\n",
       "            <tr>\n",
       "                                <td id=\"T_b1b5bf98_a2e2_11ea_914c_04d9f51c0e53row3_col0\" class=\"data row3 col0\" >132</td>\n",
       "                        <td id=\"T_b1b5bf98_a2e2_11ea_914c_04d9f51c0e53row3_col1\" class=\"data row3 col1\" >Persuasion</td>\n",
       "                        <td id=\"T_b1b5bf98_a2e2_11ea_914c_04d9f51c0e53row3_col2\" class=\"data row3 col2\" >9</td>\n",
       "                        <td id=\"T_b1b5bf98_a2e2_11ea_914c_04d9f51c0e53row3_col3\" class=\"data row3 col3\" >$3.22</td>\n",
       "                        <td id=\"T_b1b5bf98_a2e2_11ea_914c_04d9f51c0e53row3_col4\" class=\"data row3 col4\" >$28.99</td>\n",
       "            </tr>\n",
       "            <tr>\n",
       "                                <td id=\"T_b1b5bf98_a2e2_11ea_914c_04d9f51c0e53row4_col0\" class=\"data row4 col0\" >82</td>\n",
       "                        <td id=\"T_b1b5bf98_a2e2_11ea_914c_04d9f51c0e53row4_col1\" class=\"data row4 col1\" >Fiery Glass Crusader</td>\n",
       "                        <td id=\"T_b1b5bf98_a2e2_11ea_914c_04d9f51c0e53row4_col2\" class=\"data row4 col2\" >9</td>\n",
       "                        <td id=\"T_b1b5bf98_a2e2_11ea_914c_04d9f51c0e53row4_col3\" class=\"data row4 col3\" >$4.58</td>\n",
       "                        <td id=\"T_b1b5bf98_a2e2_11ea_914c_04d9f51c0e53row4_col4\" class=\"data row4 col4\" >$41.22</td>\n",
       "            </tr>\n",
       "    </tbody></table>"
      ],
      "text/plain": [
       "<pandas.io.formats.style.Styler at 0x16a77c41b88>"
      ]
     },
     "execution_count": 26,
     "metadata": {},
     "output_type": "execute_result"
    }
   ],
   "source": [
    "item_counts = purchase_data[\"Item ID\"].value_counts()\n",
    "top_items = item_counts[0:5]\n",
    "top_ID = [value for value in top_items.index]\n",
    "\n",
    "\n",
    "item_names = purchase_data.groupby(\"Item Name\")                                    \n",
    "item_names_sorted= item_names[\"Item ID\"].count().sort_values(ascending = False)\n",
    "top_5_names = item_names_sorted[0:5]\n",
    "top_names = [value for value in top_5_names.index]\n",
    "\n",
    "item_prices = item_names[\"Price\"].value_counts()\n",
    "item_prices = item_names.mean()\n",
    "top_prices = [item_prices.values[item_prices.index==x][0,3] for x in top_names]\n",
    "\n",
    "\n",
    "item_total = item_names[\"Price\"].sum()\n",
    "top_total = [item_total.values[item_total.index==x][0] for x in top_names]\n",
    "\n",
    "df = {\"Item ID\":top_ID,\n",
    "      \"Item Name\":top_names, \n",
    "      \"Purchase Count\":top_items,\n",
    "      \"Item Price\":top_prices,\n",
    "      \"Total Purchase Value\":top_total}\n",
    "format_dict = { 'Item Price': '${0:,.2f}', 'Total Purchase Value': '${0:,.2f}'}\n",
    "top_items_df = pd.DataFrame(df).style.format(format_dict).hide_index()\n",
    "top_items_df"
   ]
  },
  {
   "cell_type": "markdown",
   "metadata": {},
   "source": [
    "## Most Profitable Items"
   ]
  },
  {
   "cell_type": "markdown",
   "metadata": {},
   "source": [
    "* Sort the above table by total purchase value in descending order\n",
    "\n",
    "\n",
    "* Optional: give the displayed data cleaner formatting\n",
    "\n",
    "\n",
    "* Display a preview of the data frame\n",
    "\n"
   ]
  },
  {
   "cell_type": "code",
   "execution_count": 27,
   "metadata": {
    "scrolled": true
   },
   "outputs": [
    {
     "data": {
      "text/html": [
       "<style  type=\"text/css\" >\n",
       "</style><table id=\"T_b2a84fe2_a2e2_11ea_9ef1_04d9f51c0e53\" ><thead>    <tr>        <th class=\"col_heading level0 col0\" >Item ID</th>        <th class=\"col_heading level0 col1\" >Item Name</th>        <th class=\"col_heading level0 col2\" >Item Price</th>        <th class=\"col_heading level0 col3\" >Purchase Count</th>        <th class=\"col_heading level0 col4\" >Total Purchase Value</th>    </tr></thead><tbody>\n",
       "                <tr>\n",
       "                                <td id=\"T_b2a84fe2_a2e2_11ea_9ef1_04d9f51c0e53row0_col0\" class=\"data row0 col0\" >92</td>\n",
       "                        <td id=\"T_b2a84fe2_a2e2_11ea_9ef1_04d9f51c0e53row0_col1\" class=\"data row0 col1\" >Final Critic</td>\n",
       "                        <td id=\"T_b2a84fe2_a2e2_11ea_9ef1_04d9f51c0e53row0_col2\" class=\"data row0 col2\" >$4.88</td>\n",
       "                        <td id=\"T_b2a84fe2_a2e2_11ea_9ef1_04d9f51c0e53row0_col3\" class=\"data row0 col3\" >13</td>\n",
       "                        <td id=\"T_b2a84fe2_a2e2_11ea_9ef1_04d9f51c0e53row0_col4\" class=\"data row0 col4\" >$59.99</td>\n",
       "            </tr>\n",
       "            <tr>\n",
       "                                <td id=\"T_b2a84fe2_a2e2_11ea_9ef1_04d9f51c0e53row1_col0\" class=\"data row1 col0\" >178</td>\n",
       "                        <td id=\"T_b2a84fe2_a2e2_11ea_9ef1_04d9f51c0e53row1_col1\" class=\"data row1 col1\" >Oathbreaker, Last Hope of the Breaking Storm</td>\n",
       "                        <td id=\"T_b2a84fe2_a2e2_11ea_9ef1_04d9f51c0e53row1_col2\" class=\"data row1 col2\" >$4.23</td>\n",
       "                        <td id=\"T_b2a84fe2_a2e2_11ea_9ef1_04d9f51c0e53row1_col3\" class=\"data row1 col3\" >12</td>\n",
       "                        <td id=\"T_b2a84fe2_a2e2_11ea_9ef1_04d9f51c0e53row1_col4\" class=\"data row1 col4\" >$50.76</td>\n",
       "            </tr>\n",
       "            <tr>\n",
       "                                <td id=\"T_b2a84fe2_a2e2_11ea_9ef1_04d9f51c0e53row2_col0\" class=\"data row2 col0\" >82</td>\n",
       "                        <td id=\"T_b2a84fe2_a2e2_11ea_9ef1_04d9f51c0e53row2_col1\" class=\"data row2 col1\" >Nirvana</td>\n",
       "                        <td id=\"T_b2a84fe2_a2e2_11ea_9ef1_04d9f51c0e53row2_col2\" class=\"data row2 col2\" >$4.90</td>\n",
       "                        <td id=\"T_b2a84fe2_a2e2_11ea_9ef1_04d9f51c0e53row2_col3\" class=\"data row2 col3\" >9</td>\n",
       "                        <td id=\"T_b2a84fe2_a2e2_11ea_9ef1_04d9f51c0e53row2_col4\" class=\"data row2 col4\" >$44.10</td>\n",
       "            </tr>\n",
       "            <tr>\n",
       "                                <td id=\"T_b2a84fe2_a2e2_11ea_9ef1_04d9f51c0e53row3_col0\" class=\"data row3 col0\" >145</td>\n",
       "                        <td id=\"T_b2a84fe2_a2e2_11ea_9ef1_04d9f51c0e53row3_col1\" class=\"data row3 col1\" >Fiery Glass Crusader</td>\n",
       "                        <td id=\"T_b2a84fe2_a2e2_11ea_9ef1_04d9f51c0e53row3_col2\" class=\"data row3 col2\" >$4.58</td>\n",
       "                        <td id=\"T_b2a84fe2_a2e2_11ea_9ef1_04d9f51c0e53row3_col3\" class=\"data row3 col3\" >9</td>\n",
       "                        <td id=\"T_b2a84fe2_a2e2_11ea_9ef1_04d9f51c0e53row3_col4\" class=\"data row3 col4\" >$28.99</td>\n",
       "            </tr>\n",
       "            <tr>\n",
       "                                <td id=\"T_b2a84fe2_a2e2_11ea_9ef1_04d9f51c0e53row4_col0\" class=\"data row4 col0\" >103</td>\n",
       "                        <td id=\"T_b2a84fe2_a2e2_11ea_9ef1_04d9f51c0e53row4_col1\" class=\"data row4 col1\" >Singed Scalpel</td>\n",
       "                        <td id=\"T_b2a84fe2_a2e2_11ea_9ef1_04d9f51c0e53row4_col2\" class=\"data row4 col2\" >$4.35</td>\n",
       "                        <td id=\"T_b2a84fe2_a2e2_11ea_9ef1_04d9f51c0e53row4_col3\" class=\"data row4 col3\" >8</td>\n",
       "                        <td id=\"T_b2a84fe2_a2e2_11ea_9ef1_04d9f51c0e53row4_col4\" class=\"data row4 col4\" >$41.22</td>\n",
       "            </tr>\n",
       "    </tbody></table>"
      ],
      "text/plain": [
       "<pandas.io.formats.style.Styler at 0x16a77c95908>"
      ]
     },
     "execution_count": 27,
     "metadata": {},
     "output_type": "execute_result"
    }
   ],
   "source": [
    "purchase_value = item_names.sum()\n",
    "purchase_value_sorted = purchase_value.sort_values(\"Price\", ascending = False)\n",
    "top_profitable_items = purchase_value_sorted[0:5]\n",
    "\n",
    "\n",
    "item_profit = purchase_data.sort_values(\"Price\", ascending = False)\n",
    "item_profit_single = item_profit.drop_duplicates(subset =\"Item Name\", keep = \"first\") \n",
    "\n",
    "\n",
    "top_item_total = top_profitable_items[\"Price\"]\n",
    "top_item_total = [float(value) for value in top_item_total]\n",
    "\n",
    "\n",
    "top_item_names = top_profitable_items.index\n",
    "top_item_names = [str(value) for value in top_item_names]\n",
    "\n",
    "\n",
    "item_count = item_names.count()\n",
    "top_item_count = [item_count.loc[item_count.index==x][\"Item ID\"] for x in top_item_names]\n",
    "top_item_count = [int(value) for value in top_item_count]\n",
    "\n",
    "\n",
    "top_item_prices = [item_profit_single.loc[item_profit_single[\"Item Name\"]==x][\"Price\"] for x in top_item_names]\n",
    "top_item_prices = [float(value) for value in top_item_prices]\n",
    "\n",
    "\n",
    "top_item_ID = [item_profit_single.loc[item_profit_single[\"Item Name\"]==x][\"Item ID\"] for x in top_item_names]\n",
    "top_item_ID = [int(value) for value in top_item_ID]\n",
    "\n",
    "\n",
    "df = {\"Item ID\":top_item_ID,\n",
    "      \"Item Name\":top_item_names, \n",
    "      \"Item Price\":top_item_prices,\n",
    "      \"Purchase Count\":top_item_count,\n",
    "      \"Total Purchase Value\":top_total}\n",
    "format_dict = { 'Item Price': '${0:,.2f}', 'Total Purchase Value': '${0:,.2f}'}\n",
    "top_profit_df = pd.DataFrame(df).style.format(format_dict).hide_index()\n",
    "top_profit_df"
   ]
  },
  {
   "cell_type": "code",
   "execution_count": null,
   "metadata": {},
   "outputs": [],
   "source": []
  },
  {
   "cell_type": "code",
   "execution_count": null,
   "metadata": {},
   "outputs": [],
   "source": []
  },
  {
   "cell_type": "code",
   "execution_count": null,
   "metadata": {},
   "outputs": [],
   "source": []
  }
 ],
 "metadata": {
  "anaconda-cloud": {},
  "kernel_info": {
   "name": "python3"
  },
  "kernelspec": {
   "display_name": "Python 3",
   "language": "python",
   "name": "python3"
  },
  "language_info": {
   "codemirror_mode": {
    "name": "ipython",
    "version": 3
   },
   "file_extension": ".py",
   "mimetype": "text/x-python",
   "name": "python",
   "nbconvert_exporter": "python",
   "pygments_lexer": "ipython3",
   "version": "3.7.6"
  },
  "latex_envs": {
   "LaTeX_envs_menu_present": true,
   "autoclose": false,
   "autocomplete": true,
   "bibliofile": "biblio.bib",
   "cite_by": "apalike",
   "current_citInitial": 1,
   "eqLabelWithNumbers": true,
   "eqNumInitial": 1,
   "hotkeys": {
    "equation": "Ctrl-E",
    "itemize": "Ctrl-I"
   },
   "labels_anchors": false,
   "latex_user_defs": false,
   "report_style_numbering": false,
   "user_envs_cfg": false
  },
  "nteract": {
   "version": "0.2.0"
  }
 },
 "nbformat": 4,
 "nbformat_minor": 2
}
